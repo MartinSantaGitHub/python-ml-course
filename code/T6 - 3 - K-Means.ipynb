{
 "cells": [
  {
   "cell_type": "markdown",
   "metadata": {},
   "source": [
    "# El método de k-means"
   ]
  },
  {
   "cell_type": "code",
   "execution_count": 6,
   "metadata": {},
   "outputs": [],
   "source": [
    "import numpy as np\n",
    "from scipy.cluster.vq import vq\n",
    "from scipy.cluster.vq import kmeans"
   ]
  },
  {
   "cell_type": "code",
   "execution_count": 2,
   "metadata": {},
   "outputs": [
    {
     "data": {
      "text/plain": [
       "array([[0.05861091, 0.29513038, 0.21233612],\n",
       "       [0.42755859, 0.07119241, 0.33086683],\n",
       "       [0.10592624, 0.88895981, 0.97158321],\n",
       "       [0.82995164, 0.68043986, 0.59322305],\n",
       "       [0.32470803, 0.73980032, 0.81162107],\n",
       "       [0.76536501, 0.36831487, 0.11292422],\n",
       "       [0.04017568, 0.69490884, 0.01648313],\n",
       "       [0.83600944, 0.18427929, 0.02893966],\n",
       "       [0.61455279, 0.50379063, 0.98018874],\n",
       "       [0.84113482, 0.44790702, 0.11641394],\n",
       "       [0.46077837, 0.23895697, 0.93836663],\n",
       "       [0.87711063, 0.36016413, 0.74944492],\n",
       "       [0.38437085, 0.69255798, 0.84229834],\n",
       "       [0.05497842, 0.72719664, 0.26903675],\n",
       "       [0.87670659, 0.11900953, 0.08074028],\n",
       "       [0.22808179, 0.98679088, 0.25135229],\n",
       "       [0.3253775 , 0.72244212, 0.72014103],\n",
       "       [0.95030029, 0.41648262, 0.11879733],\n",
       "       [0.02361418, 0.76816243, 0.75800728],\n",
       "       [0.33116478, 0.66796381, 0.46660014],\n",
       "       [0.46084933, 0.67300023, 0.31001503],\n",
       "       [0.53815993, 0.3341739 , 0.26117628],\n",
       "       [0.21683602, 0.23713386, 0.40721718],\n",
       "       [0.07623455, 0.31696088, 0.73013287],\n",
       "       [0.69366617, 0.36404037, 0.2699187 ],\n",
       "       [0.20480364, 0.44229996, 0.60079418],\n",
       "       [0.39075667, 0.51182007, 0.86314852],\n",
       "       [0.32815135, 0.28342807, 0.32697714],\n",
       "       [0.5648876 , 0.81760575, 0.70315312],\n",
       "       [0.84958361, 0.31667685, 0.68111147]])"
      ]
     },
     "execution_count": 2,
     "metadata": {},
     "output_type": "execute_result"
    }
   ],
   "source": [
    "data = np.random.random(90).reshape(30,3)\n",
    "data"
   ]
  },
  {
   "cell_type": "code",
   "execution_count": 3,
   "metadata": {},
   "outputs": [
    {
     "data": {
      "text/plain": [
       "array([[0.46084933, 0.67300023, 0.31001503],\n",
       "       [0.21683602, 0.23713386, 0.40721718]])"
      ]
     },
     "execution_count": 3,
     "metadata": {},
     "output_type": "execute_result"
    }
   ],
   "source": [
    "c1 = np.random.choice(range(len(data)))\n",
    "c2 = np.random.choice(range(len(data)))\n",
    "clust_centers = np.vstack([data[c1],data[c2]])\n",
    "clust_centers"
   ]
  },
  {
   "cell_type": "code",
   "execution_count": 5,
   "metadata": {},
   "outputs": [
    {
     "data": {
      "text/plain": [
       "(array([1, 1, 0, 0, 0, 0, 0, 0, 0, 0, 1, 0, 0, 0, 0, 0, 0, 0, 0, 0, 0, 0,\n",
       "        1, 1, 0, 1, 1, 1, 0, 0]),\n",
       " array([0.25763814, 0.27887263, 0.78120508, 0.46529415, 0.52402798,\n",
       "        0.47371696, 0.51342701, 0.67719763, 0.70808858, 0.48245766,\n",
       "        0.58449203, 0.68135051, 0.53810499, 0.41151873, 0.72966422,\n",
       "        0.39507799, 0.43474181, 0.58474587, 0.63318834, 0.20337734,\n",
       "        0.        , 0.35094933, 0.        , 0.3611311 , 0.38893134,\n",
       "        0.28232953, 0.55997705, 0.14481961, 0.43161589, 0.64482033]))"
      ]
     },
     "execution_count": 5,
     "metadata": {},
     "output_type": "execute_result"
    }
   ],
   "source": [
    "vq(data,clust_centers)"
   ]
  },
  {
   "cell_type": "code",
   "execution_count": 7,
   "metadata": {},
   "outputs": [
    {
     "data": {
      "text/plain": [
       "(array([[0.73447484, 0.32884241, 0.30587782],\n",
       "        [0.27037263, 0.6069712 , 0.60291531]]),\n",
       " 0.35592576827019623)"
      ]
     },
     "execution_count": 7,
     "metadata": {},
     "output_type": "execute_result"
    }
   ],
   "source": [
    "kmeans(data,clust_centers)"
   ]
  },
  {
   "cell_type": "code",
   "execution_count": 9,
   "metadata": {},
   "outputs": [
    {
     "data": {
      "text/plain": [
       "(array([[0.59938562, 0.36539264, 0.28853658],\n",
       "        [0.29215967, 0.64466488, 0.70760173]]),\n",
       " 0.3545359635912436)"
      ]
     },
     "execution_count": 9,
     "metadata": {},
     "output_type": "execute_result"
    }
   ],
   "source": [
    "kmeans(data,2)"
   ]
  }
 ],
 "metadata": {
  "kernelspec": {
   "display_name": "Python 3",
   "language": "python",
   "name": "python3"
  },
  "language_info": {
   "codemirror_mode": {
    "name": "ipython",
    "version": 3
   },
   "file_extension": ".py",
   "mimetype": "text/x-python",
   "name": "python",
   "nbconvert_exporter": "python",
   "pygments_lexer": "ipython3",
   "version": "3.8.5"
  }
 },
 "nbformat": 4,
 "nbformat_minor": 4
}
