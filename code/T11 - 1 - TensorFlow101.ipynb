{
  "nbformat": 4,
  "nbformat_minor": 0,
  "metadata": {
    "kernelspec": {
      "display_name": "Python 3",
      "language": "python",
      "name": "python3"
    },
    "language_info": {
      "codemirror_mode": {
        "name": "ipython",
        "version": 3
      },
      "file_extension": ".py",
      "mimetype": "text/x-python",
      "name": "python",
      "nbconvert_exporter": "python",
      "pygments_lexer": "ipython3",
      "version": "3.8.5"
    },
    "colab": {
      "name": "T11 - 1 - TensorFlow101.ipynb",
      "provenance": [],
      "include_colab_link": true
    }
  },
  "cells": [
    {
      "cell_type": "markdown",
      "metadata": {
        "id": "view-in-github",
        "colab_type": "text"
      },
      "source": [
        "<a href=\"https://colab.research.google.com/github/MartinSantaGitHub/python-ml-course/blob/master/code/T11%20-%201%20-%20TensorFlow101.ipynb\" target=\"_parent\"><img src=\"https://colab.research.google.com/assets/colab-badge.svg\" alt=\"Open In Colab\"/></a>"
      ]
    },
    {
      "cell_type": "markdown",
      "metadata": {
        "id": "U1klEsbfZ0MQ"
      },
      "source": [
        "# Introducción a Tensor Flow"
      ]
    },
    {
      "cell_type": "code",
      "metadata": {
        "id": "9-y48Q0MZ0MT"
      },
      "source": [
        "%tensorflow_version 1.x"
      ],
      "execution_count": null,
      "outputs": []
    },
    {
      "cell_type": "code",
      "metadata": {
        "id": "YCSU9MNhZ0MU"
      },
      "source": [
        "import os\r\n",
        "import tensorflow as tf\r\n",
        "import skimage.io as imd\r\n",
        "from google.colab import drive\r\n",
        "\r\n",
        "drive.mount('/content/drive')"
      ],
      "execution_count": null,
      "outputs": []
    },
    {
      "cell_type": "code",
      "metadata": {
        "id": "GrpNZFl7Z0MU"
      },
      "source": [
        "print(tf.__version__)"
      ],
      "execution_count": null,
      "outputs": []
    },
    {
      "cell_type": "code",
      "metadata": {
        "id": "XpHM-bpQZ0MV"
      },
      "source": [
        "x1 = tf.constant([1,2,3,4,5])\r\n",
        "x2 = tf.constant([6,7,8,9,10])"
      ],
      "execution_count": null,
      "outputs": []
    },
    {
      "cell_type": "code",
      "metadata": {
        "id": "17UfKLnHcQVa"
      },
      "source": [
        "res = tf.multiply(x1,x2)\r\n",
        "res"
      ],
      "execution_count": null,
      "outputs": []
    },
    {
      "cell_type": "code",
      "metadata": {
        "id": "NAotdX3Mcd7g"
      },
      "source": [
        "print(res)"
      ],
      "execution_count": null,
      "outputs": []
    },
    {
      "cell_type": "code",
      "metadata": {
        "id": "o9C0KilYciGb"
      },
      "source": [
        "res.dtype"
      ],
      "execution_count": null,
      "outputs": []
    },
    {
      "cell_type": "code",
      "metadata": {
        "id": "3WqAgpJLc3Tm"
      },
      "source": [
        "sess = tf.Session()\r\n",
        "print(sess.run(res))\r\n",
        "sess.close()"
      ],
      "execution_count": null,
      "outputs": []
    },
    {
      "cell_type": "code",
      "metadata": {
        "id": "N-p-h_PSdJKw"
      },
      "source": [
        "with tf.Session() as sess:\r\n",
        "  output = sess.run(res)\r\n",
        "  print(output)"
      ],
      "execution_count": null,
      "outputs": []
    },
    {
      "cell_type": "code",
      "metadata": {
        "id": "xcKYOtyRde6h"
      },
      "source": [
        "config = tf.ConfigProto(log_device_placement = True)\r\n",
        "config = tf.ConfigProto(allow_soft_placement = True)"
      ],
      "execution_count": null,
      "outputs": []
    },
    {
      "cell_type": "markdown",
      "metadata": {
        "id": "n85NdAnznazR"
      },
      "source": [
        "# Aprendizaje neuronal de las señales de tráfico"
      ]
    },
    {
      "cell_type": "code",
      "metadata": {
        "id": "xrDNNbP1nb8N"
      },
      "source": [
        "def load_ml_data(data_directory):\r\n",
        "  dirs = [d for d in os.listdir(data_directory) if os.path.isdir(os.path.join(data_directory,d))]\r\n",
        "\r\n",
        "  labels = []\r\n",
        "  images = []\r\n",
        "\r\n",
        "  for d in dirs:\r\n",
        "    label_dir = os.path.join(data_directory,d)\r\n",
        "    file_names = [os.path.join(label_dir,f) for f in os.listdir(label_dir) if f.endswith(\".ppm\")]\r\n",
        "\r\n",
        "    for f in file_names:\r\n",
        "      images.append(imd.imread(f))\r\n",
        "      labels.append(int(d))\r\n",
        "  \r\n",
        "  return images, labels"
      ],
      "execution_count": null,
      "outputs": []
    },
    {
      "cell_type": "code",
      "metadata": {
        "id": "XxENymQPpJ7l"
      },
      "source": [
        "main_dir = \"/content/drive/My Drive/datasets/belgian/\"\r\n",
        "train_data_dir = os.path.join(main_dir,\"Training\")\r\n",
        "test_data_dir = os.path.join(main_dir,\"Testing\")"
      ],
      "execution_count": null,
      "outputs": []
    },
    {
      "cell_type": "code",
      "metadata": {
        "id": "H6vyQaufwFiw"
      },
      "source": [
        "images, labels = load_ml_data(train_data_dir)"
      ],
      "execution_count": null,
      "outputs": []
    },
    {
      "cell_type": "code",
      "metadata": {
        "id": "oxlaD-NcpQHP"
      },
      "source": [
        "len(images)"
      ],
      "execution_count": null,
      "outputs": []
    }
  ]
}