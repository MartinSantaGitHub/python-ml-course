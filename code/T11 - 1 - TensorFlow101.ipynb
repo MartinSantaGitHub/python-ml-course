{
  "nbformat": 4,
  "nbformat_minor": 0,
  "metadata": {
    "kernelspec": {
      "display_name": "Python 3",
      "language": "python",
      "name": "python3"
    },
    "language_info": {
      "codemirror_mode": {
        "name": "ipython",
        "version": 3
      },
      "file_extension": ".py",
      "mimetype": "text/x-python",
      "name": "python",
      "nbconvert_exporter": "python",
      "pygments_lexer": "ipython3",
      "version": "3.8.5"
    },
    "colab": {
      "name": "T11 - 1 - TensorFlow101.ipynb",
      "provenance": [],
      "include_colab_link": true
    }
  },
  "cells": [
    {
      "cell_type": "markdown",
      "metadata": {
        "id": "view-in-github",
        "colab_type": "text"
      },
      "source": [
        "<a href=\"https://colab.research.google.com/github/MartinSantaGitHub/python-ml-course/blob/master/code/T11%20-%201%20-%20TensorFlow101.ipynb\" target=\"_parent\"><img src=\"https://colab.research.google.com/assets/colab-badge.svg\" alt=\"Open In Colab\"/></a>"
      ]
    },
    {
      "cell_type": "markdown",
      "metadata": {
        "id": "U1klEsbfZ0MQ"
      },
      "source": [
        "# Introducción a Tensor Flow"
      ]
    },
    {
      "cell_type": "code",
      "metadata": {
        "id": "9-y48Q0MZ0MT"
      },
      "source": [
        "%tensorflow_version 1.x"
      ],
      "execution_count": 50,
      "outputs": []
    },
    {
      "cell_type": "code",
      "metadata": {
        "id": "YCSU9MNhZ0MU",
        "outputId": "6384d6e3-8df3-46ba-a3da-d78df65cd802",
        "colab": {
          "base_uri": "https://localhost:8080/"
        }
      },
      "source": [
        "import os\r\n",
        "import numpy as np\r\n",
        "import tensorflow as tf\r\n",
        "import skimage.io as imd\r\n",
        "import matplotlib.pyplot as plt\r\n",
        "from google.colab import drive\r\n",
        "\r\n",
        "drive.mount('/content/drive')"
      ],
      "execution_count": 88,
      "outputs": [
        {
          "output_type": "stream",
          "text": [
            "Drive already mounted at /content/drive; to attempt to forcibly remount, call drive.mount(\"/content/drive\", force_remount=True).\n"
          ],
          "name": "stdout"
        }
      ]
    },
    {
      "cell_type": "code",
      "metadata": {
        "id": "GrpNZFl7Z0MU",
        "outputId": "59b88607-e72e-455e-8d2e-7c67a7e610ef",
        "colab": {
          "base_uri": "https://localhost:8080/"
        }
      },
      "source": [
        "print(tf.__version__)"
      ],
      "execution_count": 52,
      "outputs": [
        {
          "output_type": "stream",
          "text": [
            "1.15.2\n"
          ],
          "name": "stdout"
        }
      ]
    },
    {
      "cell_type": "code",
      "metadata": {
        "id": "XpHM-bpQZ0MV"
      },
      "source": [
        "x1 = tf.constant([1,2,3,4,5])\r\n",
        "x2 = tf.constant([6,7,8,9,10])"
      ],
      "execution_count": 53,
      "outputs": []
    },
    {
      "cell_type": "code",
      "metadata": {
        "id": "17UfKLnHcQVa",
        "outputId": "53c24440-f371-4ffc-8e4b-8be331a28a51",
        "colab": {
          "base_uri": "https://localhost:8080/"
        }
      },
      "source": [
        "res = tf.multiply(x1,x2)\r\n",
        "res"
      ],
      "execution_count": 54,
      "outputs": [
        {
          "output_type": "execute_result",
          "data": {
            "text/plain": [
              "<tf.Tensor 'Mul_1:0' shape=(5,) dtype=int32>"
            ]
          },
          "metadata": {
            "tags": []
          },
          "execution_count": 54
        }
      ]
    },
    {
      "cell_type": "code",
      "metadata": {
        "id": "NAotdX3Mcd7g",
        "outputId": "3eecb6a7-b1ba-4b7c-8271-050604c00e33",
        "colab": {
          "base_uri": "https://localhost:8080/"
        }
      },
      "source": [
        "print(res)"
      ],
      "execution_count": 55,
      "outputs": [
        {
          "output_type": "stream",
          "text": [
            "Tensor(\"Mul_1:0\", shape=(5,), dtype=int32)\n"
          ],
          "name": "stdout"
        }
      ]
    },
    {
      "cell_type": "code",
      "metadata": {
        "id": "o9C0KilYciGb",
        "outputId": "ea63fff1-5967-4568-ee45-005f11906ffc",
        "colab": {
          "base_uri": "https://localhost:8080/"
        }
      },
      "source": [
        "res.dtype"
      ],
      "execution_count": 56,
      "outputs": [
        {
          "output_type": "execute_result",
          "data": {
            "text/plain": [
              "tf.int32"
            ]
          },
          "metadata": {
            "tags": []
          },
          "execution_count": 56
        }
      ]
    },
    {
      "cell_type": "code",
      "metadata": {
        "id": "3WqAgpJLc3Tm",
        "outputId": "bfdb3575-85e6-4140-c1f2-5c8c96cc2533",
        "colab": {
          "base_uri": "https://localhost:8080/"
        }
      },
      "source": [
        "sess = tf.Session()\r\n",
        "print(sess.run(res))\r\n",
        "sess.close()"
      ],
      "execution_count": 57,
      "outputs": [
        {
          "output_type": "stream",
          "text": [
            "[ 6 14 24 36 50]\n"
          ],
          "name": "stdout"
        }
      ]
    },
    {
      "cell_type": "code",
      "metadata": {
        "id": "N-p-h_PSdJKw",
        "outputId": "441f7393-d708-4f2b-f08e-f1c1eceeb048",
        "colab": {
          "base_uri": "https://localhost:8080/"
        }
      },
      "source": [
        "with tf.Session() as sess:\r\n",
        "  output = sess.run(res)\r\n",
        "  print(output)"
      ],
      "execution_count": 58,
      "outputs": [
        {
          "output_type": "stream",
          "text": [
            "[ 6 14 24 36 50]\n"
          ],
          "name": "stdout"
        }
      ]
    },
    {
      "cell_type": "code",
      "metadata": {
        "id": "xcKYOtyRde6h"
      },
      "source": [
        "config = tf.ConfigProto(log_device_placement = True)\r\n",
        "config = tf.ConfigProto(allow_soft_placement = True)"
      ],
      "execution_count": 59,
      "outputs": []
    },
    {
      "cell_type": "markdown",
      "metadata": {
        "id": "n85NdAnznazR"
      },
      "source": [
        "# Aprendizaje neuronal de las señales de tráfico"
      ]
    },
    {
      "cell_type": "code",
      "metadata": {
        "id": "xrDNNbP1nb8N"
      },
      "source": [
        "def load_ml_data(data_directory):\r\n",
        "  dirs = [d for d in os.listdir(data_directory) if os.path.isdir(os.path.join(data_directory,d))]\r\n",
        "\r\n",
        "  labels = []\r\n",
        "  images = []\r\n",
        "\r\n",
        "  for d in dirs:\r\n",
        "    label_dir = os.path.join(data_directory,d)\r\n",
        "    file_names = [os.path.join(label_dir,f) for f in os.listdir(label_dir) if f.endswith(\".ppm\")]\r\n",
        "\r\n",
        "    for f in file_names:\r\n",
        "      images.append(imd.imread(f))\r\n",
        "      labels.append(int(d))\r\n",
        "  \r\n",
        "  return images, labels"
      ],
      "execution_count": 60,
      "outputs": []
    },
    {
      "cell_type": "code",
      "metadata": {
        "id": "XxENymQPpJ7l"
      },
      "source": [
        "main_dir = \"/content/drive/My Drive/datasets/belgian/\"\r\n",
        "train_data_dir = os.path.join(main_dir,\"Training\")\r\n",
        "test_data_dir = os.path.join(main_dir,\"Testing\")"
      ],
      "execution_count": 61,
      "outputs": []
    },
    {
      "cell_type": "code",
      "metadata": {
        "id": "H6vyQaufwFiw"
      },
      "source": [
        "images, labels = load_ml_data(train_data_dir)"
      ],
      "execution_count": 64,
      "outputs": []
    },
    {
      "cell_type": "code",
      "metadata": {
        "id": "oxlaD-NcpQHP",
        "outputId": "15634947-afd8-450c-d423-5490fbf62702",
        "colab": {
          "base_uri": "https://localhost:8080/"
        }
      },
      "source": [
        "len(images)"
      ],
      "execution_count": 65,
      "outputs": [
        {
          "output_type": "execute_result",
          "data": {
            "text/plain": [
              "4575"
            ]
          },
          "metadata": {
            "tags": []
          },
          "execution_count": 65
        }
      ]
    },
    {
      "cell_type": "code",
      "metadata": {
        "id": "5fuJzUzN6VdB"
      },
      "source": [
        "images = np.array(images)"
      ],
      "execution_count": 73,
      "outputs": []
    },
    {
      "cell_type": "code",
      "metadata": {
        "id": "V3Afmcu87aDa"
      },
      "source": [
        "labels = np.array(labels)"
      ],
      "execution_count": 72,
      "outputs": []
    },
    {
      "cell_type": "code",
      "metadata": {
        "id": "a988F5-57hOi",
        "outputId": "523a7dd4-b8e0-4e10-c2ab-8967ef71d7b6",
        "colab": {
          "base_uri": "https://localhost:8080/"
        }
      },
      "source": [
        "images.size"
      ],
      "execution_count": 74,
      "outputs": [
        {
          "output_type": "execute_result",
          "data": {
            "text/plain": [
              "4575"
            ]
          },
          "metadata": {
            "tags": []
          },
          "execution_count": 74
        }
      ]
    },
    {
      "cell_type": "code",
      "metadata": {
        "id": "MZRT0RiC7mJH",
        "outputId": "373c4816-35da-4a6f-b99a-365c311ffba5",
        "colab": {
          "base_uri": "https://localhost:8080/"
        }
      },
      "source": [
        "images.ndim"
      ],
      "execution_count": 75,
      "outputs": [
        {
          "output_type": "execute_result",
          "data": {
            "text/plain": [
              "1"
            ]
          },
          "metadata": {
            "tags": []
          },
          "execution_count": 75
        }
      ]
    },
    {
      "cell_type": "code",
      "metadata": {
        "id": "1DFhg9637pAN",
        "outputId": "16bd161d-6d32-4049-f5d1-c8e73086a797",
        "colab": {
          "base_uri": "https://localhost:8080/"
        }
      },
      "source": [
        "images[0]"
      ],
      "execution_count": 79,
      "outputs": [
        {
          "output_type": "execute_result",
          "data": {
            "text/plain": [
              "array([[[ 39,  38,  37],\n",
              "        [ 37,  36,  36],\n",
              "        [ 35,  36,  34],\n",
              "        ...,\n",
              "        [ 28,  26,  26],\n",
              "        [ 27,  25,  25],\n",
              "        [ 27,  25,  25]],\n",
              "\n",
              "       [[ 37,  36,  35],\n",
              "        [ 36,  36,  34],\n",
              "        [ 35,  36,  34],\n",
              "        ...,\n",
              "        [ 28,  26,  26],\n",
              "        [ 28,  26,  26],\n",
              "        [ 26,  24,  24]],\n",
              "\n",
              "       [[ 35,  34,  32],\n",
              "        [ 35,  35,  32],\n",
              "        [ 36,  37,  33],\n",
              "        ...,\n",
              "        [ 27,  25,  26],\n",
              "        [ 28,  26,  26],\n",
              "        [ 25,  23,  24]],\n",
              "\n",
              "       ...,\n",
              "\n",
              "       [[ 50,  46,  40],\n",
              "        [ 50,  46,  39],\n",
              "        [ 50,  46,  39],\n",
              "        ...,\n",
              "        [ 84, 100,  57],\n",
              "        [ 84,  98,  55],\n",
              "        [ 86,  98,  55]],\n",
              "\n",
              "       [[ 52,  48,  42],\n",
              "        [ 51,  48,  41],\n",
              "        [ 51,  47,  40],\n",
              "        ...,\n",
              "        [ 83, 100,  58],\n",
              "        [ 84,  99,  57],\n",
              "        [ 87,  99,  57]],\n",
              "\n",
              "       [[ 53,  48,  43],\n",
              "        [ 52,  48,  42],\n",
              "        [ 51,  48,  41],\n",
              "        ...,\n",
              "        [ 75,  91,  51],\n",
              "        [ 77,  90,  51],\n",
              "        [ 80,  91,  52]]], dtype=uint8)"
            ]
          },
          "metadata": {
            "tags": []
          },
          "execution_count": 79
        }
      ]
    },
    {
      "cell_type": "code",
      "metadata": {
        "id": "Aepgljow7Rlo",
        "outputId": "4b3fb8d7-0757-4203-9dcd-69da0b020a89",
        "colab": {
          "base_uri": "https://localhost:8080/"
        }
      },
      "source": [
        "len(set(labels))"
      ],
      "execution_count": 83,
      "outputs": [
        {
          "output_type": "execute_result",
          "data": {
            "text/plain": [
              "62"
            ]
          },
          "metadata": {
            "tags": []
          },
          "execution_count": 83
        }
      ]
    },
    {
      "cell_type": "code",
      "metadata": {
        "id": "58BZSzMV7P_9",
        "outputId": "c07ef43e-0703-4ef7-eeaa-557b0ca05bef",
        "colab": {
          "base_uri": "https://localhost:8080/"
        }
      },
      "source": [
        "labels[0]"
      ],
      "execution_count": 81,
      "outputs": [
        {
          "output_type": "execute_result",
          "data": {
            "text/plain": [
              "6"
            ]
          },
          "metadata": {
            "tags": []
          },
          "execution_count": 81
        }
      ]
    },
    {
      "cell_type": "code",
      "metadata": {
        "id": "5ZGXtMuv66Wn",
        "outputId": "e960367f-6bdf-49b7-d004-9777820992fb",
        "colab": {
          "base_uri": "https://localhost:8080/"
        }
      },
      "source": [
        "images.flags"
      ],
      "execution_count": 84,
      "outputs": [
        {
          "output_type": "execute_result",
          "data": {
            "text/plain": [
              "  C_CONTIGUOUS : True\n",
              "  F_CONTIGUOUS : True\n",
              "  OWNDATA : True\n",
              "  WRITEABLE : True\n",
              "  ALIGNED : True\n",
              "  WRITEBACKIFCOPY : False\n",
              "  UPDATEIFCOPY : False"
            ]
          },
          "metadata": {
            "tags": []
          },
          "execution_count": 84
        }
      ]
    },
    {
      "cell_type": "code",
      "metadata": {
        "id": "AXGHHyi_8w4S",
        "outputId": "15edf862-4a77-471c-eab1-15a5dc2a27b2",
        "colab": {
          "base_uri": "https://localhost:8080/"
        }
      },
      "source": [
        "images.itemsize"
      ],
      "execution_count": 85,
      "outputs": [
        {
          "output_type": "execute_result",
          "data": {
            "text/plain": [
              "8"
            ]
          },
          "metadata": {
            "tags": []
          },
          "execution_count": 85
        }
      ]
    },
    {
      "cell_type": "code",
      "metadata": {
        "id": "_X9abqgq83Ve",
        "outputId": "3c75814e-7324-4239-d532-2d677a63a8eb",
        "colab": {
          "base_uri": "https://localhost:8080/"
        }
      },
      "source": [
        "images.nbytes"
      ],
      "execution_count": 86,
      "outputs": [
        {
          "output_type": "execute_result",
          "data": {
            "text/plain": [
              "36600"
            ]
          },
          "metadata": {
            "tags": []
          },
          "execution_count": 86
        }
      ]
    },
    {
      "cell_type": "code",
      "metadata": {
        "id": "YmL5w1uX86Rk",
        "outputId": "e850492c-0470-48b0-c4bf-a54e8da9816b",
        "colab": {
          "base_uri": "https://localhost:8080/"
        }
      },
      "source": [
        "images.nbytes / images.itemsize"
      ],
      "execution_count": 87,
      "outputs": [
        {
          "output_type": "execute_result",
          "data": {
            "text/plain": [
              "4575.0"
            ]
          },
          "metadata": {
            "tags": []
          },
          "execution_count": 87
        }
      ]
    },
    {
      "cell_type": "code",
      "metadata": {
        "id": "nufCZqJU9B7T",
        "outputId": "141f39f3-9521-4c6d-a5b9-1ae8614af100",
        "colab": {
          "base_uri": "https://localhost:8080/",
          "height": 265
        }
      },
      "source": [
        "plt.hist(labels,len(set(labels)))\r\n",
        "plt.show()"
      ],
      "execution_count": 90,
      "outputs": [
        {
          "output_type": "display_data",
          "data": {
            "image/png": "[encoded data removed]",
            "text/plain": [
              "<Figure size 432x288 with 1 Axes>"
            ]
          },
          "metadata": {
            "tags": [],
            "needs_background": "light"
          }
        }
      ]
    },
    {
      "cell_type": "code",
      "metadata": {
        "id": "-f4iQq3F9dNZ"
      },
      "source": [
        ""
      ],
      "execution_count": null,
      "outputs": []
    }
  ]
}