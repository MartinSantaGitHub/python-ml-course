{
  "nbformat": 4,
  "nbformat_minor": 0,
  "metadata": {
    "kernelspec": {
      "display_name": "Python 3",
      "language": "python",
      "name": "python3"
    },
    "language_info": {
      "codemirror_mode": {
        "name": "ipython",
        "version": 3
      },
      "file_extension": ".py",
      "mimetype": "text/x-python",
      "name": "python",
      "nbconvert_exporter": "python",
      "pygments_lexer": "ipython3",
      "version": "3.8.5"
    },
    "colab": {
      "name": "T11 - 1 - TensorFlow101.ipynb",
      "provenance": [],
      "include_colab_link": true
    }
  },
  "cells": [
    {
      "cell_type": "markdown",
      "metadata": {
        "id": "view-in-github",
        "colab_type": "text"
      },
      "source": [
        "<a href=\"https://colab.research.google.com/github/MartinSantaGitHub/python-ml-course/blob/master/code/T11%20-%201%20-%20TensorFlow101.ipynb\" target=\"_parent\"><img src=\"https://colab.research.google.com/assets/colab-badge.svg\" alt=\"Open In Colab\"/></a>"
      ]
    },
    {
      "cell_type": "markdown",
      "metadata": {
        "id": "U1klEsbfZ0MQ"
      },
      "source": [
        "# **Introducción a Tensor Flow**"
      ]
    },
    {
      "cell_type": "code",
      "metadata": {
        "id": "9-y48Q0MZ0MT"
      },
      "source": [
        "%tensorflow_version 1.x"
      ],
      "execution_count": 64,
      "outputs": []
    },
    {
      "cell_type": "code",
      "metadata": {
        "id": "YCSU9MNhZ0MU"
      },
      "source": [
        "import tensorflow as tf"
      ],
      "execution_count": 65,
      "outputs": []
    },
    {
      "cell_type": "code",
      "metadata": {
        "id": "GrpNZFl7Z0MU",
        "colab": {
          "base_uri": "https://localhost:8080/"
        },
        "outputId": "051c36a1-7c8d-4ac0-ec76-5be66b67f5d6"
      },
      "source": [
        "print(tf.__version__)"
      ],
      "execution_count": 66,
      "outputs": [
        {
          "output_type": "stream",
          "text": [
            "1.15.2\n"
          ],
          "name": "stdout"
        }
      ]
    },
    {
      "cell_type": "code",
      "metadata": {
        "id": "XpHM-bpQZ0MV"
      },
      "source": [
        "x1 = tf.constant([1,2,3,4,5])\r\n",
        "x2 = tf.constant([6,7,8,9,10])"
      ],
      "execution_count": 67,
      "outputs": []
    },
    {
      "cell_type": "code",
      "metadata": {
        "id": "17UfKLnHcQVa",
        "colab": {
          "base_uri": "https://localhost:8080/"
        },
        "outputId": "29750fdf-5ba2-4e09-8264-0909d3f20bc5"
      },
      "source": [
        "res = tf.multiply(x1,x2)\r\n",
        "res"
      ],
      "execution_count": 68,
      "outputs": [
        {
          "output_type": "execute_result",
          "data": {
            "text/plain": [
              "<tf.Tensor 'Mul_1:0' shape=(5,) dtype=int32>"
            ]
          },
          "metadata": {
            "tags": []
          },
          "execution_count": 68
        }
      ]
    },
    {
      "cell_type": "code",
      "metadata": {
        "id": "NAotdX3Mcd7g",
        "colab": {
          "base_uri": "https://localhost:8080/"
        },
        "outputId": "279bcd68-b880-4e97-f407-be35c99781f4"
      },
      "source": [
        "print(res)"
      ],
      "execution_count": 69,
      "outputs": [
        {
          "output_type": "stream",
          "text": [
            "Tensor(\"Mul_1:0\", shape=(5,), dtype=int32)\n"
          ],
          "name": "stdout"
        }
      ]
    },
    {
      "cell_type": "code",
      "metadata": {
        "id": "o9C0KilYciGb",
        "colab": {
          "base_uri": "https://localhost:8080/"
        },
        "outputId": "42800fac-b575-431c-8ec9-228490e4ec20"
      },
      "source": [
        "res.dtype"
      ],
      "execution_count": 70,
      "outputs": [
        {
          "output_type": "execute_result",
          "data": {
            "text/plain": [
              "tf.int32"
            ]
          },
          "metadata": {
            "tags": []
          },
          "execution_count": 70
        }
      ]
    },
    {
      "cell_type": "code",
      "metadata": {
        "id": "3WqAgpJLc3Tm",
        "colab": {
          "base_uri": "https://localhost:8080/"
        },
        "outputId": "3988e2f3-7ac9-4bf3-c76f-28973bb563f8"
      },
      "source": [
        "sess = tf.Session()\r\n",
        "print(sess.run(res))\r\n",
        "sess.close()"
      ],
      "execution_count": 71,
      "outputs": [
        {
          "output_type": "stream",
          "text": [
            "[ 6 14 24 36 50]\n"
          ],
          "name": "stdout"
        }
      ]
    },
    {
      "cell_type": "code",
      "metadata": {
        "id": "N-p-h_PSdJKw",
        "colab": {
          "base_uri": "https://localhost:8080/"
        },
        "outputId": "debfabdf-9f53-438a-99f3-294b7dc9d8b8"
      },
      "source": [
        "with tf.Session() as sess:\r\n",
        "  output = sess.run(res)\r\n",
        "  print(output)"
      ],
      "execution_count": 72,
      "outputs": [
        {
          "output_type": "stream",
          "text": [
            "[ 6 14 24 36 50]\n"
          ],
          "name": "stdout"
        }
      ]
    },
    {
      "cell_type": "code",
      "metadata": {
        "id": "xcKYOtyRde6h"
      },
      "source": [
        "config = tf.ConfigProto(log_device_placement = True)\r\n",
        "config = tf.ConfigProto(allow_soft_placement = True)"
      ],
      "execution_count": 73,
      "outputs": []
    }
  ]
}