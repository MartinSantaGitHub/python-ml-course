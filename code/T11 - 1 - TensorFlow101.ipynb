{
  "nbformat": 4,
  "nbformat_minor": 0,
  "metadata": {
    "kernelspec": {
      "display_name": "Python 3",
      "language": "python",
      "name": "python3"
    },
    "language_info": {
      "codemirror_mode": {
        "name": "ipython",
        "version": 3
      },
      "file_extension": ".py",
      "mimetype": "text/x-python",
      "name": "python",
      "nbconvert_exporter": "python",
      "pygments_lexer": "ipython3",
      "version": "3.8.5"
    },
    "colab": {
      "name": "T11 - 1 - TensorFlow101.ipynb",
      "provenance": [],
      "include_colab_link": true
    }
  },
  "cells": [
    {
      "cell_type": "markdown",
      "metadata": {
        "id": "view-in-github",
        "colab_type": "text"
      },
      "source": [
        "<a href=\"https://colab.research.google.com/github/MartinSantaGitHub/python-ml-course/blob/master/code/T11%20-%201%20-%20TensorFlow101.ipynb\" target=\"_parent\"><img src=\"https://colab.research.google.com/assets/colab-badge.svg\" alt=\"Open In Colab\"/></a>"
      ]
    },
    {
      "cell_type": "markdown",
      "metadata": {
        "id": "U1klEsbfZ0MQ"
      },
      "source": [
        "# Introducción a Tensor Flow"
      ]
    },
    {
      "cell_type": "code",
      "metadata": {
        "id": "9-y48Q0MZ0MT"
      },
      "source": [
        "%tensorflow_version 1.x"
      ],
      "execution_count": null,
      "outputs": []
    },
    {
      "cell_type": "code",
      "metadata": {
        "id": "YCSU9MNhZ0MU"
      },
      "source": [
        "import tensorflow as tf"
      ],
      "execution_count": null,
      "outputs": []
    },
    {
      "cell_type": "code",
      "metadata": {
        "id": "GrpNZFl7Z0MU",
        "colab": {
          "base_uri": "https://localhost:8080/"
        },
        "outputId": "95b88dfb-fd00-4094-8b92-50f61fb24f23"
      },
      "source": [
        "print(tf.__version__)"
      ],
      "execution_count": 14,
      "outputs": [
        {
          "output_type": "stream",
          "text": [
            "1.15.2\n"
          ],
          "name": "stdout"
        }
      ]
    },
    {
      "cell_type": "code",
      "metadata": {
        "id": "XpHM-bpQZ0MV"
      },
      "source": [
        "x1 = tf.constant([1,2,3,4,5])\r\n",
        "x2 = tf.constant([6,7,8,9,10])"
      ],
      "execution_count": 8,
      "outputs": []
    },
    {
      "cell_type": "code",
      "metadata": {
        "id": "17UfKLnHcQVa",
        "outputId": "e7981365-4e10-4dce-e811-43505ee61f32",
        "colab": {
          "base_uri": "https://localhost:8080/"
        }
      },
      "source": [
        "res = tf.multiply(x1,x2)\r\n",
        "res"
      ],
      "execution_count": 9,
      "outputs": [
        {
          "output_type": "execute_result",
          "data": {
            "text/plain": [
              "<tf.Tensor 'Mul:0' shape=(5,) dtype=int32>"
            ]
          },
          "metadata": {
            "tags": []
          },
          "execution_count": 9
        }
      ]
    },
    {
      "cell_type": "code",
      "metadata": {
        "id": "NAotdX3Mcd7g",
        "outputId": "6640797e-3487-41f3-c096-aae7b663eade",
        "colab": {
          "base_uri": "https://localhost:8080/"
        }
      },
      "source": [
        "print(res)"
      ],
      "execution_count": 10,
      "outputs": [
        {
          "output_type": "stream",
          "text": [
            "Tensor(\"Mul:0\", shape=(5,), dtype=int32)\n"
          ],
          "name": "stdout"
        }
      ]
    },
    {
      "cell_type": "code",
      "metadata": {
        "id": "o9C0KilYciGb",
        "outputId": "47f7549c-3890-4e9f-b7a8-d55ab77da166",
        "colab": {
          "base_uri": "https://localhost:8080/"
        }
      },
      "source": [
        "res.dtype"
      ],
      "execution_count": 13,
      "outputs": [
        {
          "output_type": "execute_result",
          "data": {
            "text/plain": [
              "tf.int32"
            ]
          },
          "metadata": {
            "tags": []
          },
          "execution_count": 13
        }
      ]
    },
    {
      "cell_type": "code",
      "metadata": {
        "id": "3WqAgpJLc3Tm",
        "outputId": "34e2a479-d99b-48fc-c0bb-84afdc8c8384",
        "colab": {
          "base_uri": "https://localhost:8080/"
        }
      },
      "source": [
        "sess = tf.Session()\r\n",
        "print(sess.run(res))\r\n",
        "sess.close()"
      ],
      "execution_count": 16,
      "outputs": [
        {
          "output_type": "stream",
          "text": [
            "[ 6 14 24 36 50]\n"
          ],
          "name": "stdout"
        }
      ]
    },
    {
      "cell_type": "code",
      "metadata": {
        "id": "N-p-h_PSdJKw",
        "outputId": "3a4fd451-3eee-42c6-e530-f1bf8a5f9e02",
        "colab": {
          "base_uri": "https://localhost:8080/"
        }
      },
      "source": [
        "with tf.Session() as sess:\r\n",
        "  output = sess.run(res)\r\n",
        "  print(output)"
      ],
      "execution_count": 17,
      "outputs": [
        {
          "output_type": "stream",
          "text": [
            "[ 6 14 24 36 50]\n"
          ],
          "name": "stdout"
        }
      ]
    },
    {
      "cell_type": "code",
      "metadata": {
        "id": "xcKYOtyRde6h"
      },
      "source": [
        "config = tf.ConfigProto(log_device_placement = True)\r\n",
        "config = tf.ConfigProto(allow_soft_placement = True)"
      ],
      "execution_count": 19,
      "outputs": []
    },
    {
      "cell_type": "code",
      "metadata": {
        "id": "wbTkwX0aeWsw"
      },
      "source": [
        ""
      ],
      "execution_count": null,
      "outputs": []
    },
    {
      "cell_type": "code",
      "metadata": {
        "id": "uT5OxN_Qd-rE"
      },
      "source": [
        ""
      ],
      "execution_count": null,
      "outputs": []
    }
  ]
}